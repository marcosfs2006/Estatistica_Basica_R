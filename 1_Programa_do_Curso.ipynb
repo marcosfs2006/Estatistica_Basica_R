{
  "nbformat": 4,
  "nbformat_minor": 0,
  "metadata": {
    "kernelspec": {
      "display_name": "R",
      "language": "R",
      "name": "ir"
    },
    "language_info": {
      "codemirror_mode": "r",
      "file_extension": ".r",
      "mimetype": "text/x-r-source",
      "name": "R",
      "pygments_lexer": "r",
      "version": "3.3.1"
    },
    "colab": {
      "name": "1. Programa do Curso.ipynb",
      "provenance": [],
      "collapsed_sections": []
    }
  },
  "cells": [
    {
      "cell_type": "markdown",
      "source": [
        "<img src=\"https://drive.google.com/uc?export=view&id=1h_07KvMIw8cHB5DWLdnZMFRoXfDuHS9W\" width=\"500\" height=\"100\">\n",
        "\n",
        "\n"
      ],
      "metadata": {
        "id": "-JrxYK86AE0H"
      }
    },
    {
      "cell_type": "markdown",
      "metadata": {
        "id": "zeCWjfyphbGB"
      },
      "source": [
        "# **Estatística Básica com R**\n",
        "\n",
        "Instrutor: **Marcos Ferreira da Silva**\n",
        "\n",
        "<br>\n",
        "\n",
        "Programa do Curso:\n",
        "\n",
        "Dias **25 e 30/08/2002** \n",
        "\n",
        "* Apresentação do R/RStudio\n",
        "* Classificação das variáveis\n",
        "* Distribuição de Frequencias\n",
        "* Medidas descritivas\n",
        "* Análise Exploratória de Dados\n",
        "\n",
        "Dias **01 e 06/09/2022**\n",
        "\n",
        "* Introdução à estimação\n",
        "* Testes de hipóteses\n",
        "* Intervalores de confiança\n",
        "\n",
        "Dias **08 e 13/09/2022**\n",
        "\n",
        "* Análise de correlações\n",
        "* Modelo de regressão linear simples e múltipla\n"
      ]
    },
    {
      "cell_type": "markdown",
      "source": [
        "Notebooks e dados estão disponíveis no repositório do curso no GitHub: <https://github.com/marcosfs2006/Estatistica_Basica_R>"
      ],
      "metadata": {
        "id": "KClILOYKCD2W"
      }
    }
  ]
}